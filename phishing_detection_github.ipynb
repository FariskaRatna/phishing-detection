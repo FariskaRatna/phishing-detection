{
  "cells": [
    {
      "cell_type": "code",
      "execution_count": null,
      "id": "abb7f0d3",
      "metadata": {
        "execution": {
          "iopub.execute_input": "2023-05-25T08:12:15.815751Z",
          "iopub.status.busy": "2023-05-25T08:12:15.815262Z",
          "iopub.status.idle": "2023-05-25T08:12:28.596098Z",
          "shell.execute_reply": "2023-05-25T08:12:28.594489Z"
        },
        "papermill": {
          "duration": 12.799849,
          "end_time": "2023-05-25T08:12:28.599712",
          "exception": false,
          "start_time": "2023-05-25T08:12:15.799863",
          "status": "completed"
        },
        "tags": [],
        "id": "abb7f0d3",
        "outputId": "738d313d-8301-4c32-f5b2-7fbb0ff80547"
      },
      "outputs": [
        {
          "name": "stderr",
          "output_type": "stream",
          "text": [
            "/opt/conda/lib/python3.10/site-packages/scipy/__init__.py:146: UserWarning: A NumPy version >=1.16.5 and <1.23.0 is required for this version of SciPy (detected version 1.23.5\n",
            "  warnings.warn(f\"A NumPy version >={np_minversion} and <{np_maxversion}\"\n"
          ]
        }
      ],
      "source": [
        "import nltk\n",
        "import string\n",
        "import re\n",
        "import sklearn\n",
        "import pandas as pd\n",
        "import numpy as np\n",
        "from tqdm import tqdm\n",
        "import matplotlib.pyplot as plt\n",
        "from sklearn.model_selection import train_test_split, GridSearchCV\n",
        "from sklearn.preprocessing import StandardScaler, OrdinalEncoder\n",
        "from sklearn.cluster import MiniBatchKMeans\n",
        "from sklearn.tree import DecisionTreeClassifier\n",
        "from sklearn.ensemble import RandomForestClassifier\n",
        "from sklearn.linear_model import LogisticRegression\n",
        "from sklearn.naive_bayes import GaussianNB\n",
        "from sklearn.metrics import accuracy_score\n",
        "from sklearn.feature_extraction.text import TfidfVectorizer\n",
        "from sklearn.pipeline import Pipeline\n",
        "from scipy import stats\n",
        "import tensorflow as tf\n",
        "from tensorflow.keras.layers import Embedding, Conv1D, LSTM, Dense, GlobalMaxPooling1D\n",
        "from tensorflow.keras.models import Sequential\n",
        "from sklearn.model_selection import train_test_split\n",
        "#nltk.download('stopwords')\n",
        "from nltk.corpus import stopwords\n",
        "from nltk.tokenize import word_tokenize\n",
        "\n",
        "import warnings\n",
        "warnings.simplefilter(action='ignore', category=FutureWarning)"
      ]
    },
    {
      "cell_type": "markdown",
      "id": "f9397780",
      "metadata": {
        "papermill": {
          "duration": 0.010109,
          "end_time": "2023-05-25T08:12:28.620409",
          "exception": false,
          "start_time": "2023-05-25T08:12:28.610300",
          "status": "completed"
        },
        "tags": [],
        "id": "f9397780"
      },
      "source": [
        "# Preprocessing"
      ]
    },
    {
      "cell_type": "markdown",
      "id": "56586172",
      "metadata": {
        "papermill": {
          "duration": 0.009885,
          "end_time": "2023-05-25T08:12:28.640546",
          "exception": false,
          "start_time": "2023-05-25T08:12:28.630661",
          "status": "completed"
        },
        "tags": [],
        "id": "56586172"
      },
      "source": [
        "## Import dataset"
      ]
    },
    {
      "cell_type": "code",
      "execution_count": null,
      "id": "3698d5ee",
      "metadata": {
        "execution": {
          "iopub.execute_input": "2023-05-25T08:12:28.663011Z",
          "iopub.status.busy": "2023-05-25T08:12:28.662247Z",
          "iopub.status.idle": "2023-05-25T08:13:18.957793Z",
          "shell.execute_reply": "2023-05-25T08:13:18.956203Z"
        },
        "papermill": {
          "duration": 50.30991,
          "end_time": "2023-05-25T08:13:18.960606",
          "exception": false,
          "start_time": "2023-05-25T08:12:28.650696",
          "status": "completed"
        },
        "tags": [],
        "id": "3698d5ee"
      },
      "outputs": [],
      "source": [
        "# Load dataset into a pandas dataframe\n",
        "df_reviews_raw = pd.read_csv('/kaggle/input/dataset-of-malicious-and-benign-webpages/Webpages_Classification_train_data.csv/Webpages_Classification_train_data.csv').drop(['Unnamed: 0'], axis=1)"
      ]
    },
    {
      "cell_type": "code",
      "execution_count": null,
      "id": "c124f16e",
      "metadata": {
        "execution": {
          "iopub.execute_input": "2023-05-25T08:13:18.984040Z",
          "iopub.status.busy": "2023-05-25T08:13:18.983596Z",
          "iopub.status.idle": "2023-05-25T08:13:20.383404Z",
          "shell.execute_reply": "2023-05-25T08:13:20.381654Z"
        },
        "papermill": {
          "duration": 1.414146,
          "end_time": "2023-05-25T08:13:20.386646",
          "exception": false,
          "start_time": "2023-05-25T08:13:18.972500",
          "status": "completed"
        },
        "tags": [],
        "id": "c124f16e",
        "outputId": "829c4390-1f5a-421a-829b-6faee36252e8"
      },
      "outputs": [
        {
          "data": {
            "text/plain": [
              "url           0\n",
              "url_len       0\n",
              "ip_add        0\n",
              "geo_loc       0\n",
              "tld           0\n",
              "who_is        0\n",
              "https         0\n",
              "js_len        0\n",
              "js_obf_len    0\n",
              "content       0\n",
              "label         0\n",
              "dtype: int64"
            ]
          },
          "execution_count": 3,
          "metadata": {},
          "output_type": "execute_result"
        }
      ],
      "source": [
        "# Inspect for missing values\n",
        "df_reviews_raw.isna().sum()"
      ]
    },
    {
      "cell_type": "code",
      "execution_count": null,
      "id": "efa9cc04",
      "metadata": {
        "execution": {
          "iopub.execute_input": "2023-05-25T08:13:20.409682Z",
          "iopub.status.busy": "2023-05-25T08:13:20.409272Z",
          "iopub.status.idle": "2023-05-25T08:13:20.420642Z",
          "shell.execute_reply": "2023-05-25T08:13:20.418671Z"
        },
        "papermill": {
          "duration": 0.026284,
          "end_time": "2023-05-25T08:13:20.423810",
          "exception": false,
          "start_time": "2023-05-25T08:13:20.397526",
          "status": "completed"
        },
        "tags": [],
        "id": "efa9cc04",
        "outputId": "75b1dc66-58c4-4e40-bd99-2d06ef582f61"
      },
      "outputs": [
        {
          "data": {
            "text/plain": [
              "url            object\n",
              "url_len         int64\n",
              "ip_add         object\n",
              "geo_loc        object\n",
              "tld            object\n",
              "who_is         object\n",
              "https          object\n",
              "js_len        float64\n",
              "js_obf_len    float64\n",
              "content        object\n",
              "label          object\n",
              "dtype: object"
            ]
          },
          "execution_count": 4,
          "metadata": {},
          "output_type": "execute_result"
        }
      ],
      "source": [
        "# Check data types\n",
        "df_reviews_raw.dtypes"
      ]
    },
    {
      "cell_type": "markdown",
      "id": "7c45b2c3",
      "metadata": {
        "papermill": {
          "duration": 0.009985,
          "end_time": "2023-05-25T08:13:20.444638",
          "exception": false,
          "start_time": "2023-05-25T08:13:20.434653",
          "status": "completed"
        },
        "tags": [],
        "id": "7c45b2c3"
      },
      "source": [
        "## Clean the data"
      ]
    },
    {
      "cell_type": "markdown",
      "id": "e6ffa7f0",
      "metadata": {
        "papermill": {
          "duration": 0.009637,
          "end_time": "2023-05-25T08:13:20.464083",
          "exception": false,
          "start_time": "2023-05-25T08:13:20.454446",
          "status": "completed"
        },
        "tags": [],
        "id": "e6ffa7f0"
      },
      "source": [
        "Data dibersihkan dan diubah menjadi format yang disesuaikan. Dilakukan juga label uniform distribution."
      ]
    },
    {
      "cell_type": "code",
      "execution_count": null,
      "id": "500d8aa1",
      "metadata": {
        "execution": {
          "iopub.execute_input": "2023-05-25T08:13:20.486885Z",
          "iopub.status.busy": "2023-05-25T08:13:20.486229Z",
          "iopub.status.idle": "2023-05-25T08:13:20.599323Z",
          "shell.execute_reply": "2023-05-25T08:13:20.598380Z"
        },
        "papermill": {
          "duration": 0.127895,
          "end_time": "2023-05-25T08:13:20.602238",
          "exception": false,
          "start_time": "2023-05-25T08:13:20.474343",
          "status": "completed"
        },
        "tags": [],
        "id": "500d8aa1",
        "outputId": "ab372cc0-eec4-4c55-9a7d-8ac352334261"
      },
      "outputs": [
        {
          "data": {
            "text/plain": [
              "count     1200000\n",
              "unique          2\n",
              "top          good\n",
              "freq      1172747\n",
              "Name: label, dtype: object"
            ]
          },
          "execution_count": 5,
          "metadata": {},
          "output_type": "execute_result"
        }
      ],
      "source": [
        "# Check the label distribution\n",
        "df_reviews_raw.label.describe()"
      ]
    },
    {
      "cell_type": "code",
      "execution_count": null,
      "id": "6317e980",
      "metadata": {
        "execution": {
          "iopub.execute_input": "2023-05-25T08:13:20.626757Z",
          "iopub.status.busy": "2023-05-25T08:13:20.626327Z",
          "iopub.status.idle": "2023-05-25T08:13:23.489591Z",
          "shell.execute_reply": "2023-05-25T08:13:23.487961Z"
        },
        "papermill": {
          "duration": 2.878389,
          "end_time": "2023-05-25T08:13:23.491753",
          "exception": false,
          "start_time": "2023-05-25T08:13:20.613364",
          "status": "completed"
        },
        "tags": [],
        "id": "6317e980",
        "outputId": "7c5acec6-2a2d-4c0f-d85f-55da626fed1e"
      },
      "outputs": [
        {
          "data": {
            "text/plain": [
              "count     49338\n",
              "unique        2\n",
              "top         bad\n",
              "freq      24962\n",
              "Name: label, dtype: object"
            ]
          },
          "execution_count": 6,
          "metadata": {},
          "output_type": "execute_result"
        }
      ],
      "source": [
        "# Get an equally distributed sample\n",
        "df_reviews_untrimmed_sample = df_reviews_raw.groupby('label').apply(lambda x: x.sample(25000, random_state=42)).reset_index(drop=True)\n",
        "# Remove if content has less than 60 words\n",
        "df_reviews_trimmed = df_reviews_untrimmed_sample[df_reviews_untrimmed_sample.content.str.split().str.len().ge(60)]\n",
        "df_reviews_trimmed.label.describe()"
      ]
    },
    {
      "cell_type": "code",
      "execution_count": null,
      "id": "1656468f",
      "metadata": {
        "execution": {
          "iopub.execute_input": "2023-05-25T08:13:23.516654Z",
          "iopub.status.busy": "2023-05-25T08:13:23.516243Z",
          "iopub.status.idle": "2023-05-25T08:13:23.939307Z",
          "shell.execute_reply": "2023-05-25T08:13:23.938579Z"
        },
        "papermill": {
          "duration": 0.437658,
          "end_time": "2023-05-25T08:13:23.941296",
          "exception": false,
          "start_time": "2023-05-25T08:13:23.503638",
          "status": "completed"
        },
        "tags": [],
        "id": "1656468f",
        "outputId": "300b7d5c-d473-4648-f822-b7fea955d7e0"
      },
      "outputs": [
        {
          "data": {
            "text/plain": [
              "count     4000\n",
              "unique       2\n",
              "top        bad\n",
              "freq      2000\n",
              "Name: label, dtype: object"
            ]
          },
          "execution_count": 7,
          "metadata": {},
          "output_type": "execute_result"
        }
      ],
      "source": [
        "# Resample trimmed dataframe to make it uniformly distributed\n",
        "df_reviews_sampled = df_reviews_trimmed.groupby('label').apply(lambda x: x.sample(2000, random_state=42)).reset_index(drop=True)\n",
        "# Randomly shuffle rows for aesthetics\n",
        "df_reviews = df_reviews_sampled.sample(frac=1, random_state=42).reset_index(drop=True)\n",
        "df_reviews.label.describe()"
      ]
    },
    {
      "cell_type": "code",
      "execution_count": null,
      "id": "6ff187e7",
      "metadata": {
        "execution": {
          "iopub.execute_input": "2023-05-25T08:13:23.965860Z",
          "iopub.status.busy": "2023-05-25T08:13:23.965254Z",
          "iopub.status.idle": "2023-05-25T08:13:23.992846Z",
          "shell.execute_reply": "2023-05-25T08:13:23.991993Z"
        },
        "papermill": {
          "duration": 0.043137,
          "end_time": "2023-05-25T08:13:23.994972",
          "exception": false,
          "start_time": "2023-05-25T08:13:23.951835",
          "status": "completed"
        },
        "tags": [],
        "id": "6ff187e7",
        "outputId": "5d8dfa7d-9254-4edf-eb33-423419bd80d4"
      },
      "outputs": [
        {
          "data": {
            "text/html": [
              "<div>\n",
              "<style scoped>\n",
              "    .dataframe tbody tr th:only-of-type {\n",
              "        vertical-align: middle;\n",
              "    }\n",
              "\n",
              "    .dataframe tbody tr th {\n",
              "        vertical-align: top;\n",
              "    }\n",
              "\n",
              "    .dataframe thead th {\n",
              "        text-align: right;\n",
              "    }\n",
              "</style>\n",
              "<table border=\"1\" class=\"dataframe\">\n",
              "  <thead>\n",
              "    <tr style=\"text-align: right;\">\n",
              "      <th></th>\n",
              "      <th>url</th>\n",
              "      <th>url_len</th>\n",
              "      <th>ip_add</th>\n",
              "      <th>geo_loc</th>\n",
              "      <th>tld</th>\n",
              "      <th>who_is</th>\n",
              "      <th>https</th>\n",
              "      <th>js_len</th>\n",
              "      <th>js_obf_len</th>\n",
              "      <th>content</th>\n",
              "      <th>label</th>\n",
              "    </tr>\n",
              "  </thead>\n",
              "  <tbody>\n",
              "    <tr>\n",
              "      <th>0</th>\n",
              "      <td>http://www.a24-7pornsite.com/copulating_couples/</td>\n",
              "      <td>48</td>\n",
              "      <td>131.75.86.176</td>\n",
              "      <td>United States</td>\n",
              "      <td>com</td>\n",
              "      <td>incomplete</td>\n",
              "      <td>no</td>\n",
              "      <td>730.8</td>\n",
              "      <td>650.412</td>\n",
              "      <td>pornprincess inthebuff shiteater reestie sexto...</td>\n",
              "      <td>bad</td>\n",
              "    </tr>\n",
              "    <tr>\n",
              "      <th>1</th>\n",
              "      <td>http://www.gakkaionline.net/</td>\n",
              "      <td>28</td>\n",
              "      <td>22.209.62.228</td>\n",
              "      <td>United States</td>\n",
              "      <td>net</td>\n",
              "      <td>incomplete</td>\n",
              "      <td>yes</td>\n",
              "      <td>107.0</td>\n",
              "      <td>0.000</td>\n",
              "      <td>Xix olympic increasingly connected via the cre...</td>\n",
              "      <td>good</td>\n",
              "    </tr>\n",
              "    <tr>\n",
              "      <th>2</th>\n",
              "      <td>http://www.bizarre-free-porn-pics-free-porn-pi...</td>\n",
              "      <td>93</td>\n",
              "      <td>105.223.214.186</td>\n",
              "      <td>South Africa</td>\n",
              "      <td>com</td>\n",
              "      <td>complete</td>\n",
              "      <td>no</td>\n",
              "      <td>0.0</td>\n",
              "      <td>0.000</td>\n",
              "      <td>nigre death willie nigger lowlife mormon afric...</td>\n",
              "      <td>bad</td>\n",
              "    </tr>\n",
              "    <tr>\n",
              "      <th>3</th>\n",
              "      <td>http://home.pacbell.net/cmr_esq/index.html</td>\n",
              "      <td>42</td>\n",
              "      <td>19.143.109.218</td>\n",
              "      <td>United States</td>\n",
              "      <td>net</td>\n",
              "      <td>complete</td>\n",
              "      <td>yes</td>\n",
              "      <td>135.5</td>\n",
              "      <td>0.000</td>\n",
              "      <td>Have unfolded daytime highs near. Maps. \\n cou...</td>\n",
              "      <td>good</td>\n",
              "    </tr>\n",
              "    <tr>\n",
              "      <th>4</th>\n",
              "      <td>http://full-time.thefa.com/gen/index.do?league...</td>\n",
              "      <td>54</td>\n",
              "      <td>14.230.85.226</td>\n",
              "      <td>Vietnam</td>\n",
              "      <td>com</td>\n",
              "      <td>incomplete</td>\n",
              "      <td>yes</td>\n",
              "      <td>167.5</td>\n",
              "      <td>0.000</td>\n",
              "      <td>Repress all televised thanksgiving parade that...</td>\n",
              "      <td>good</td>\n",
              "    </tr>\n",
              "  </tbody>\n",
              "</table>\n",
              "</div>"
            ],
            "text/plain": [
              "                                                 url  url_len  \\\n",
              "0   http://www.a24-7pornsite.com/copulating_couples/       48   \n",
              "1                       http://www.gakkaionline.net/       28   \n",
              "2  http://www.bizarre-free-porn-pics-free-porn-pi...       93   \n",
              "3         http://home.pacbell.net/cmr_esq/index.html       42   \n",
              "4  http://full-time.thefa.com/gen/index.do?league...       54   \n",
              "\n",
              "            ip_add        geo_loc  tld      who_is https  js_len  js_obf_len  \\\n",
              "0    131.75.86.176  United States  com  incomplete    no   730.8     650.412   \n",
              "1    22.209.62.228  United States  net  incomplete   yes   107.0       0.000   \n",
              "2  105.223.214.186   South Africa  com    complete    no     0.0       0.000   \n",
              "3   19.143.109.218  United States  net    complete   yes   135.5       0.000   \n",
              "4    14.230.85.226        Vietnam  com  incomplete   yes   167.5       0.000   \n",
              "\n",
              "                                             content label  \n",
              "0  pornprincess inthebuff shiteater reestie sexto...   bad  \n",
              "1  Xix olympic increasingly connected via the cre...  good  \n",
              "2  nigre death willie nigger lowlife mormon afric...   bad  \n",
              "3  Have unfolded daytime highs near. Maps. \\n cou...  good  \n",
              "4  Repress all televised thanksgiving parade that...  good  "
            ]
          },
          "execution_count": 8,
          "metadata": {},
          "output_type": "execute_result"
        }
      ],
      "source": [
        "df_reviews.head()"
      ]
    },
    {
      "cell_type": "code",
      "execution_count": null,
      "id": "1b600ade",
      "metadata": {
        "execution": {
          "iopub.execute_input": "2023-05-25T08:13:24.020007Z",
          "iopub.status.busy": "2023-05-25T08:13:24.019499Z",
          "iopub.status.idle": "2023-05-25T08:13:24.038715Z",
          "shell.execute_reply": "2023-05-25T08:13:24.037801Z"
        },
        "papermill": {
          "duration": 0.033963,
          "end_time": "2023-05-25T08:13:24.040604",
          "exception": false,
          "start_time": "2023-05-25T08:13:24.006641",
          "status": "completed"
        },
        "tags": [],
        "id": "1b600ade",
        "outputId": "d170447a-8c05-44ae-bed0-c0bfbdf49727"
      },
      "outputs": [
        {
          "data": {
            "text/html": [
              "<div>\n",
              "<style scoped>\n",
              "    .dataframe tbody tr th:only-of-type {\n",
              "        vertical-align: middle;\n",
              "    }\n",
              "\n",
              "    .dataframe tbody tr th {\n",
              "        vertical-align: top;\n",
              "    }\n",
              "\n",
              "    .dataframe thead th {\n",
              "        text-align: right;\n",
              "    }\n",
              "</style>\n",
              "<table border=\"1\" class=\"dataframe\">\n",
              "  <thead>\n",
              "    <tr style=\"text-align: right;\">\n",
              "      <th></th>\n",
              "      <th>geo_loc</th>\n",
              "      <th>tld</th>\n",
              "      <th>who_is</th>\n",
              "      <th>https</th>\n",
              "      <th>label</th>\n",
              "    </tr>\n",
              "  </thead>\n",
              "  <tbody>\n",
              "    <tr>\n",
              "      <th>count</th>\n",
              "      <td>4000</td>\n",
              "      <td>4000</td>\n",
              "      <td>4000</td>\n",
              "      <td>4000</td>\n",
              "      <td>4000</td>\n",
              "    </tr>\n",
              "    <tr>\n",
              "      <th>unique</th>\n",
              "      <td>117</td>\n",
              "      <td>91</td>\n",
              "      <td>2</td>\n",
              "      <td>2</td>\n",
              "      <td>2</td>\n",
              "    </tr>\n",
              "    <tr>\n",
              "      <th>top</th>\n",
              "      <td>United States</td>\n",
              "      <td>com</td>\n",
              "      <td>incomplete</td>\n",
              "      <td>no</td>\n",
              "      <td>bad</td>\n",
              "    </tr>\n",
              "    <tr>\n",
              "      <th>freq</th>\n",
              "      <td>1700</td>\n",
              "      <td>2631</td>\n",
              "      <td>2168</td>\n",
              "      <td>2200</td>\n",
              "      <td>2000</td>\n",
              "    </tr>\n",
              "  </tbody>\n",
              "</table>\n",
              "</div>"
            ],
            "text/plain": [
              "              geo_loc   tld      who_is https label\n",
              "count            4000  4000        4000  4000  4000\n",
              "unique            117    91           2     2     2\n",
              "top     United States   com  incomplete    no   bad\n",
              "freq             1700  2631        2168  2200  2000"
            ]
          },
          "execution_count": 9,
          "metadata": {},
          "output_type": "execute_result"
        }
      ],
      "source": [
        "df_reviews[['geo_loc', 'tld','who_is','https', 'label']].describe()"
      ]
    },
    {
      "cell_type": "markdown",
      "id": "10eab6ee",
      "metadata": {
        "papermill": {
          "duration": 0.010839,
          "end_time": "2023-05-25T08:13:24.062591",
          "exception": false,
          "start_time": "2023-05-25T08:13:24.051752",
          "status": "completed"
        },
        "tags": [],
        "id": "10eab6ee"
      },
      "source": [
        "## Text Preprocessing"
      ]
    },
    {
      "cell_type": "markdown",
      "id": "9f814279",
      "metadata": {
        "papermill": {
          "duration": 0.011149,
          "end_time": "2023-05-25T08:13:24.085241",
          "exception": false,
          "start_time": "2023-05-25T08:13:24.074092",
          "status": "completed"
        },
        "tags": [],
        "id": "9f814279"
      },
      "source": [
        "Melakukan Ordinal Encoder untuk mengubah nilai kategorikal (geo_loc, tld, who_is, https, label) menjadi angka ordinal."
      ]
    },
    {
      "cell_type": "code",
      "execution_count": null,
      "id": "b7cf21a5",
      "metadata": {
        "execution": {
          "iopub.execute_input": "2023-05-25T08:13:24.109801Z",
          "iopub.status.busy": "2023-05-25T08:13:24.109359Z",
          "iopub.status.idle": "2023-05-25T08:13:24.146519Z",
          "shell.execute_reply": "2023-05-25T08:13:24.145200Z"
        },
        "papermill": {
          "duration": 0.05184,
          "end_time": "2023-05-25T08:13:24.148406",
          "exception": false,
          "start_time": "2023-05-25T08:13:24.096566",
          "status": "completed"
        },
        "tags": [],
        "id": "b7cf21a5",
        "outputId": "41f6e309-0f69-42fb-9312-f6f82e1b8015"
      },
      "outputs": [
        {
          "data": {
            "text/html": [
              "<div>\n",
              "<style scoped>\n",
              "    .dataframe tbody tr th:only-of-type {\n",
              "        vertical-align: middle;\n",
              "    }\n",
              "\n",
              "    .dataframe tbody tr th {\n",
              "        vertical-align: top;\n",
              "    }\n",
              "\n",
              "    .dataframe thead th {\n",
              "        text-align: right;\n",
              "    }\n",
              "</style>\n",
              "<table border=\"1\" class=\"dataframe\">\n",
              "  <thead>\n",
              "    <tr style=\"text-align: right;\">\n",
              "      <th></th>\n",
              "      <th>url</th>\n",
              "      <th>url_len</th>\n",
              "      <th>ip_add</th>\n",
              "      <th>geo_loc</th>\n",
              "      <th>tld</th>\n",
              "      <th>who_is</th>\n",
              "      <th>https</th>\n",
              "      <th>js_len</th>\n",
              "      <th>js_obf_len</th>\n",
              "      <th>content</th>\n",
              "      <th>label</th>\n",
              "    </tr>\n",
              "  </thead>\n",
              "  <tbody>\n",
              "    <tr>\n",
              "      <th>0</th>\n",
              "      <td>a24-7pornsite com copulating_couples</td>\n",
              "      <td>48</td>\n",
              "      <td>131.75.86.176</td>\n",
              "      <td>110.0</td>\n",
              "      <td>23.0</td>\n",
              "      <td>1.0</td>\n",
              "      <td>0.0</td>\n",
              "      <td>730.8</td>\n",
              "      <td>650.412</td>\n",
              "      <td>pornprincess inthebuff shiteater reestie sexto...</td>\n",
              "      <td>0.0</td>\n",
              "    </tr>\n",
              "    <tr>\n",
              "      <th>1</th>\n",
              "      <td>gakkaionline net</td>\n",
              "      <td>28</td>\n",
              "      <td>22.209.62.228</td>\n",
              "      <td>110.0</td>\n",
              "      <td>61.0</td>\n",
              "      <td>1.0</td>\n",
              "      <td>1.0</td>\n",
              "      <td>107.0</td>\n",
              "      <td>0.000</td>\n",
              "      <td>Xix olympic increasingly connected via the cre...</td>\n",
              "      <td>1.0</td>\n",
              "    </tr>\n",
              "    <tr>\n",
              "      <th>2</th>\n",
              "      <td>bizarre-free-porn-pics-free-porn-pics-free-por...</td>\n",
              "      <td>93</td>\n",
              "      <td>105.223.214.186</td>\n",
              "      <td>92.0</td>\n",
              "      <td>23.0</td>\n",
              "      <td>0.0</td>\n",
              "      <td>0.0</td>\n",
              "      <td>0.0</td>\n",
              "      <td>0.000</td>\n",
              "      <td>nigre death willie nigger lowlife mormon afric...</td>\n",
              "      <td>0.0</td>\n",
              "    </tr>\n",
              "    <tr>\n",
              "      <th>3</th>\n",
              "      <td>home pacbell net cmr_esq index html</td>\n",
              "      <td>42</td>\n",
              "      <td>19.143.109.218</td>\n",
              "      <td>110.0</td>\n",
              "      <td>61.0</td>\n",
              "      <td>0.0</td>\n",
              "      <td>1.0</td>\n",
              "      <td>135.5</td>\n",
              "      <td>0.000</td>\n",
              "      <td>Have unfolded daytime highs near. Maps. \\n cou...</td>\n",
              "      <td>1.0</td>\n",
              "    </tr>\n",
              "    <tr>\n",
              "      <th>4</th>\n",
              "      <td>full-time thefa com gen index do?league=1073825</td>\n",
              "      <td>54</td>\n",
              "      <td>14.230.85.226</td>\n",
              "      <td>114.0</td>\n",
              "      <td>23.0</td>\n",
              "      <td>1.0</td>\n",
              "      <td>1.0</td>\n",
              "      <td>167.5</td>\n",
              "      <td>0.000</td>\n",
              "      <td>Repress all televised thanksgiving parade that...</td>\n",
              "      <td>1.0</td>\n",
              "    </tr>\n",
              "  </tbody>\n",
              "</table>\n",
              "</div>"
            ],
            "text/plain": [
              "                                                 url  url_len  \\\n",
              "0              a24-7pornsite com copulating_couples        48   \n",
              "1                                  gakkaionline net        28   \n",
              "2  bizarre-free-porn-pics-free-porn-pics-free-por...       93   \n",
              "3                home pacbell net cmr_esq index html       42   \n",
              "4    full-time thefa com gen index do?league=1073825       54   \n",
              "\n",
              "            ip_add  geo_loc   tld  who_is  https  js_len  js_obf_len  \\\n",
              "0    131.75.86.176    110.0  23.0     1.0    0.0   730.8     650.412   \n",
              "1    22.209.62.228    110.0  61.0     1.0    1.0   107.0       0.000   \n",
              "2  105.223.214.186     92.0  23.0     0.0    0.0     0.0       0.000   \n",
              "3   19.143.109.218    110.0  61.0     0.0    1.0   135.5       0.000   \n",
              "4    14.230.85.226    114.0  23.0     1.0    1.0   167.5       0.000   \n",
              "\n",
              "                                             content  label  \n",
              "0  pornprincess inthebuff shiteater reestie sexto...    0.0  \n",
              "1  Xix olympic increasingly connected via the cre...    1.0  \n",
              "2  nigre death willie nigger lowlife mormon afric...    0.0  \n",
              "3  Have unfolded daytime highs near. Maps. \\n cou...    1.0  \n",
              "4  Repress all televised thanksgiving parade that...    1.0  "
            ]
          },
          "execution_count": 10,
          "metadata": {},
          "output_type": "execute_result"
        }
      ],
      "source": [
        "df_reviews['geo_loc'] = OrdinalEncoder().fit_transform(df_reviews.geo_loc.values.reshape(-1,1))\n",
        "df_reviews['tld'] = OrdinalEncoder().fit_transform(df_reviews.tld.values.reshape(-1,1))\n",
        "df_reviews['who_is'] = OrdinalEncoder().fit_transform(df_reviews.who_is.values.reshape(-1,1))\n",
        "df_reviews['https'] = OrdinalEncoder().fit_transform(df_reviews.https.values.reshape(-1,1))\n",
        "df_reviews['label'] = OrdinalEncoder().fit_transform(df_reviews.label.values.reshape(-1,1))\n",
        "\n",
        "# convert url into human readable string that can be tokenized\n",
        "df_reviews['url'] = df_reviews.url.apply(lambda x: ' '.join(x.split('://')[1].strip('www.').replace('.','/').split('/')))\n",
        "df_reviews.head()"
      ]
    },
    {
      "cell_type": "markdown",
      "id": "0094545a",
      "metadata": {
        "papermill": {
          "duration": 0.010521,
          "end_time": "2023-05-25T08:13:24.169615",
          "exception": false,
          "start_time": "2023-05-25T08:13:24.159094",
          "status": "completed"
        },
        "tags": [],
        "id": "0094545a"
      },
      "source": [
        "Data url akan ditokenisasi, case folding (mengubah menjadi huruf kecil), dan tanda bacanya dihilangkan."
      ]
    },
    {
      "cell_type": "code",
      "execution_count": null,
      "id": "c2afbe35",
      "metadata": {
        "execution": {
          "iopub.execute_input": "2023-05-25T08:13:24.193403Z",
          "iopub.status.busy": "2023-05-25T08:13:24.193017Z",
          "iopub.status.idle": "2023-05-25T08:16:56.435246Z",
          "shell.execute_reply": "2023-05-25T08:16:56.433600Z"
        },
        "papermill": {
          "duration": 212.258134,
          "end_time": "2023-05-25T08:16:56.438546",
          "exception": false,
          "start_time": "2023-05-25T08:13:24.180412",
          "status": "completed"
        },
        "tags": [],
        "id": "c2afbe35",
        "outputId": "486ba0cf-249d-4c00-8539-db098b3bf0c0"
      },
      "outputs": [
        {
          "name": "stdout",
          "output_type": "stream",
          "text": [
            "Before Preprocessing:\n",
            "0    pornprincess inthebuff shiteater reestie sexto...\n",
            "1    Xix olympic increasingly connected via the cre...\n",
            "2    nigre death willie nigger lowlife mormon afric...\n",
            "3    Have unfolded daytime highs near. Maps. \\n cou...\n",
            "4    Repress all televised thanksgiving parade that...\n",
            "Name: content, dtype: object\n"
          ]
        },
        {
          "name": "stderr",
          "output_type": "stream",
          "text": [
            "100%|██████████| 4000/4000 [03:30<00:00, 19.00it/s]\n",
            "100%|██████████| 4000/4000 [00:01<00:00, 3180.81it/s]"
          ]
        },
        {
          "name": "stdout",
          "output_type": "stream",
          "text": [
            "After Preprocessing:\n",
            "0    pornprincess inthebuff shiteater reestie sexto...\n",
            "1    xix olympic increasingly connected crescent mu...\n",
            "2    nigre death willie nigger lowlife mormon afric...\n",
            "3    unfolded daytime highs maps countrys famous ge...\n",
            "4    repress televised thanksgiving parade occurs c...\n",
            "Name: content, dtype: object\n"
          ]
        },
        {
          "name": "stderr",
          "output_type": "stream",
          "text": [
            "\n"
          ]
        }
      ],
      "source": [
        "print(\"Before Preprocessing:\")\n",
        "print(df_reviews.content.head())\n",
        "\n",
        "tqdm.pandas()\n",
        "stop = stopwords.words()\n",
        "\n",
        "df_reviews.content = df_reviews.content.str.replace(\"[^\\w\\s]\", \"\").str.lower()\n",
        "df_reviews.content = df_reviews.content.progress_apply(lambda x: ' '.join([item for item in x.split()\n",
        "                                                               if item not in stop]))\n",
        "df_reviews.url = df_reviews.url.str.replace(\"[^\\w\\s]\", \"\").str.lower()\n",
        "df_reviews.url = df_reviews.url.progress_apply(lambda x: ' '.join([item for item in x.split()\n",
        "                                                               if item not in stop]))\n",
        "\n",
        "print(\"After Preprocessing:\")\n",
        "print(df_reviews.content.head())"
      ]
    },
    {
      "cell_type": "code",
      "execution_count": null,
      "id": "491fbb9f",
      "metadata": {
        "execution": {
          "iopub.execute_input": "2023-05-25T08:16:56.612683Z",
          "iopub.status.busy": "2023-05-25T08:16:56.612266Z",
          "iopub.status.idle": "2023-05-25T08:16:59.227616Z",
          "shell.execute_reply": "2023-05-25T08:16:59.225998Z"
        },
        "papermill": {
          "duration": 2.707421,
          "end_time": "2023-05-25T08:16:59.230477",
          "exception": false,
          "start_time": "2023-05-25T08:16:56.523056",
          "status": "completed"
        },
        "tags": [],
        "id": "491fbb9f"
      },
      "outputs": [],
      "source": [
        "tfidf = TfidfVectorizer(\n",
        "    min_df = 5,\n",
        "    max_df = 0.95,\n",
        "    max_features = 8000,\n",
        "    stop_words = 'english'\n",
        ")\n",
        "\n",
        "tfidf.fit(df_reviews.url)\n",
        "url_tfidf = tfidf.transform(df_reviews.url)\n",
        "\n",
        "tfidf.fit(df_reviews.content)\n",
        "content_tfidf = tfidf.transform(df_reviews.content)"
      ]
    },
    {
      "cell_type": "code",
      "execution_count": null,
      "id": "38184d77",
      "metadata": {
        "execution": {
          "iopub.execute_input": "2023-05-25T08:16:59.405711Z",
          "iopub.status.busy": "2023-05-25T08:16:59.405305Z",
          "iopub.status.idle": "2023-05-25T08:16:59.411255Z",
          "shell.execute_reply": "2023-05-25T08:16:59.410335Z"
        },
        "papermill": {
          "duration": 0.097209,
          "end_time": "2023-05-25T08:16:59.413229",
          "exception": false,
          "start_time": "2023-05-25T08:16:59.316020",
          "status": "completed"
        },
        "tags": [],
        "id": "38184d77"
      },
      "outputs": [],
      "source": [
        "def find_optimal_clusters(data, max_k):\n",
        "    k_list = range(2, max_k+1)\n",
        "\n",
        "    sse = []\n",
        "    for k in k_list:\n",
        "        sse.append(MiniBatchKMeans(n_clusters=k, init_size=1024, batch_size=2048, random_state=20).fit(data).inertia_)\n",
        "\n",
        "    plt.style.use(\"dark_background\")\n",
        "    f, ax = plt.subplots(1, 1)\n",
        "    ax.plot(k_list, sse, marker='o')\n",
        "    ax.set_xlabel('Cluster Centers')\n",
        "    ax.set_xticks(k_list)\n",
        "    ax.set_xticklabels(k_list)\n",
        "    ax.set_ylabel('SSE')\n",
        "    ax.set_title('SSE by Cluster Center Plot')"
      ]
    },
    {
      "cell_type": "code",
      "execution_count": null,
      "id": "66be51e3",
      "metadata": {
        "execution": {
          "iopub.execute_input": "2023-05-25T08:16:59.586410Z",
          "iopub.status.busy": "2023-05-25T08:16:59.585659Z",
          "iopub.status.idle": "2023-05-25T08:17:01.042276Z",
          "shell.execute_reply": "2023-05-25T08:17:01.040806Z"
        },
        "papermill": {
          "duration": 1.545566,
          "end_time": "2023-05-25T08:17:01.044487",
          "exception": false,
          "start_time": "2023-05-25T08:16:59.498921",
          "status": "completed"
        },
        "tags": [],
        "id": "66be51e3",
        "outputId": "d00cb730-959c-41b0-920e-3ddeaa57107f"
      },
      "outputs": [
        {
          "data": {
            "image/png": "[encoded data removed]",
            "text/plain": [
              "<Figure size 640x480 with 1 Axes>"
            ]
          },
          "metadata": {},
          "output_type": "display_data"
        }
      ],
      "source": [
        "find_optimal_clusters(url_tfidf, 20)"
      ]
    },
    {
      "cell_type": "code",
      "execution_count": null,
      "id": "b43947aa",
      "metadata": {
        "execution": {
          "iopub.execute_input": "2023-05-25T08:17:01.220419Z",
          "iopub.status.busy": "2023-05-25T08:17:01.219977Z",
          "iopub.status.idle": "2023-05-25T08:17:01.275919Z",
          "shell.execute_reply": "2023-05-25T08:17:01.275061Z"
        },
        "papermill": {
          "duration": 0.146009,
          "end_time": "2023-05-25T08:17:01.278514",
          "exception": false,
          "start_time": "2023-05-25T08:17:01.132505",
          "status": "completed"
        },
        "tags": [],
        "id": "b43947aa"
      },
      "outputs": [],
      "source": [
        "df_reviews['url_cluster'] = MiniBatchKMeans(n_clusters=8, init_size=1024, batch_size=2048,\n",
        "                                            random_state=20).fit_predict(url_tfidf)"
      ]
    },
    {
      "cell_type": "code",
      "execution_count": null,
      "id": "b35f27e6",
      "metadata": {
        "execution": {
          "iopub.execute_input": "2023-05-25T08:17:01.453603Z",
          "iopub.status.busy": "2023-05-25T08:17:01.452729Z",
          "iopub.status.idle": "2023-05-25T08:17:10.048527Z",
          "shell.execute_reply": "2023-05-25T08:17:10.046613Z"
        },
        "papermill": {
          "duration": 8.686957,
          "end_time": "2023-05-25T08:17:10.051512",
          "exception": false,
          "start_time": "2023-05-25T08:17:01.364555",
          "status": "completed"
        },
        "tags": [],
        "id": "b35f27e6",
        "outputId": "5f82c8ed-851c-4a87-fdaf-2737f38dd048"
      },
      "outputs": [
        {
          "data": {
            "image/png": "[encoded data removed]",
            "text/plain": [
              "<Figure size 640x480 with 1 Axes>"
            ]
          },
          "metadata": {},
          "output_type": "display_data"
        }
      ],
      "source": [
        "find_optimal_clusters(content_tfidf, 20)"
      ]
    },
    {
      "cell_type": "code",
      "execution_count": null,
      "id": "db31b308",
      "metadata": {
        "execution": {
          "iopub.execute_input": "2023-05-25T08:17:10.230813Z",
          "iopub.status.busy": "2023-05-25T08:17:10.230462Z",
          "iopub.status.idle": "2023-05-25T08:17:10.522938Z",
          "shell.execute_reply": "2023-05-25T08:17:10.522209Z"
        },
        "papermill": {
          "duration": 0.385063,
          "end_time": "2023-05-25T08:17:10.525037",
          "exception": false,
          "start_time": "2023-05-25T08:17:10.139974",
          "status": "completed"
        },
        "tags": [],
        "id": "db31b308"
      },
      "outputs": [],
      "source": [
        "df_reviews['content_cluster'] = MiniBatchKMeans(n_clusters=4, init_size=1024, batch_size=2048,\n",
        "                                            random_state=20).fit_predict(content_tfidf)"
      ]
    },
    {
      "cell_type": "code",
      "execution_count": null,
      "id": "06c9f0e7",
      "metadata": {
        "execution": {
          "iopub.execute_input": "2023-05-25T08:17:10.701179Z",
          "iopub.status.busy": "2023-05-25T08:17:10.700571Z",
          "iopub.status.idle": "2023-05-25T08:17:10.712283Z",
          "shell.execute_reply": "2023-05-25T08:17:10.710599Z"
        },
        "papermill": {
          "duration": 0.1038,
          "end_time": "2023-05-25T08:17:10.714890",
          "exception": false,
          "start_time": "2023-05-25T08:17:10.611090",
          "status": "completed"
        },
        "tags": [],
        "id": "06c9f0e7"
      },
      "outputs": [],
      "source": [
        "label_true = df_reviews[df_reviews['label']==1.0]\n",
        "label_false = df_reviews[df_reviews['label']==0.0]"
      ]
    },
    {
      "cell_type": "code",
      "execution_count": null,
      "id": "f23df787",
      "metadata": {
        "execution": {
          "iopub.execute_input": "2023-05-25T08:17:10.897230Z",
          "iopub.status.busy": "2023-05-25T08:17:10.896789Z",
          "iopub.status.idle": "2023-05-25T08:17:10.904058Z",
          "shell.execute_reply": "2023-05-25T08:17:10.902965Z"
        },
        "papermill": {
          "duration": 0.099411,
          "end_time": "2023-05-25T08:17:10.906583",
          "exception": false,
          "start_time": "2023-05-25T08:17:10.807172",
          "status": "completed"
        },
        "tags": [],
        "id": "f23df787",
        "outputId": "216de6b9-4d47-4fc0-afb0-02444f761358"
      },
      "outputs": [
        {
          "name": "stdout",
          "output_type": "stream",
          "text": [
            "(2000, 13) (2000, 13) (4000, 13)\n"
          ]
        }
      ],
      "source": [
        "print(label_true.shape, label_false.shape, df_reviews.shape)"
      ]
    },
    {
      "cell_type": "code",
      "execution_count": null,
      "id": "ce0fd7fb",
      "metadata": {
        "execution": {
          "iopub.execute_input": "2023-05-25T08:17:11.082931Z",
          "iopub.status.busy": "2023-05-25T08:17:11.082203Z",
          "iopub.status.idle": "2023-05-25T08:17:11.093058Z",
          "shell.execute_reply": "2023-05-25T08:17:11.091526Z"
        },
        "papermill": {
          "duration": 0.100958,
          "end_time": "2023-05-25T08:17:11.095493",
          "exception": false,
          "start_time": "2023-05-25T08:17:10.994535",
          "status": "completed"
        },
        "tags": [],
        "id": "ce0fd7fb"
      },
      "outputs": [],
      "source": [
        "X = df_reviews[['url_cluster', 'url_len', 'geo_loc', 'tld', 'who_is', 'https', 'content_cluster',\n",
        "                'js_len', 'js_obf_len']]\n",
        "y = df_reviews.label\n",
        "\n",
        "X_train, X_test, y_train, y_test = train_test_split(X, y, test_size=0.3, random_state=42)"
      ]
    },
    {
      "cell_type": "markdown",
      "id": "593313bc",
      "metadata": {
        "papermill": {
          "duration": 0.087035,
          "end_time": "2023-05-25T08:17:11.268059",
          "exception": false,
          "start_time": "2023-05-25T08:17:11.181024",
          "status": "completed"
        },
        "tags": [],
        "id": "593313bc"
      },
      "source": [
        "# **Decision Tree**"
      ]
    },
    {
      "cell_type": "code",
      "execution_count": null,
      "id": "58f86998",
      "metadata": {
        "execution": {
          "iopub.execute_input": "2023-05-25T08:17:11.516706Z",
          "iopub.status.busy": "2023-05-25T08:17:11.514956Z",
          "iopub.status.idle": "2023-05-25T08:17:11.666489Z",
          "shell.execute_reply": "2023-05-25T08:17:11.664968Z"
        },
        "papermill": {
          "duration": 0.309669,
          "end_time": "2023-05-25T08:17:11.669191",
          "exception": false,
          "start_time": "2023-05-25T08:17:11.359522",
          "status": "completed"
        },
        "tags": [],
        "id": "58f86998",
        "outputId": "faacd181-d230-4e2f-a97c-e31ce6bd29ed"
      },
      "outputs": [
        {
          "data": {
            "text/html": [
              "<style>#sk-container-id-1 {color: black;background-color: white;}#sk-container-id-1 pre{padding: 0;}#sk-container-id-1 div.sk-toggleable {background-color: white;}#sk-container-id-1 label.sk-toggleable__label {cursor: pointer;display: block;width: 100%;margin-bottom: 0;padding: 0.3em;box-sizing: border-box;text-align: center;}#sk-container-id-1 label.sk-toggleable__label-arrow:before {content: \"▸\";float: left;margin-right: 0.25em;color: #696969;}#sk-container-id-1 label.sk-toggleable__label-arrow:hover:before {color: black;}#sk-container-id-1 div.sk-estimator:hover label.sk-toggleable__label-arrow:before {color: black;}#sk-container-id-1 div.sk-toggleable__content {max-height: 0;max-width: 0;overflow: hidden;text-align: left;background-color: #f0f8ff;}#sk-container-id-1 div.sk-toggleable__content pre {margin: 0.2em;color: black;border-radius: 0.25em;background-color: #f0f8ff;}#sk-container-id-1 input.sk-toggleable__control:checked~div.sk-toggleable__content {max-height: 200px;max-width: 100%;overflow: auto;}#sk-container-id-1 input.sk-toggleable__control:checked~label.sk-toggleable__label-arrow:before {content: \"▾\";}#sk-container-id-1 div.sk-estimator input.sk-toggleable__control:checked~label.sk-toggleable__label {background-color: #d4ebff;}#sk-container-id-1 div.sk-label input.sk-toggleable__control:checked~label.sk-toggleable__label {background-color: #d4ebff;}#sk-container-id-1 input.sk-hidden--visually {border: 0;clip: rect(1px 1px 1px 1px);clip: rect(1px, 1px, 1px, 1px);height: 1px;margin: -1px;overflow: hidden;padding: 0;position: absolute;width: 1px;}#sk-container-id-1 div.sk-estimator {font-family: monospace;background-color: #f0f8ff;border: 1px dotted black;border-radius: 0.25em;box-sizing: border-box;margin-bottom: 0.5em;}#sk-container-id-1 div.sk-estimator:hover {background-color: #d4ebff;}#sk-container-id-1 div.sk-parallel-item::after {content: \"\";width: 100%;border-bottom: 1px solid gray;flex-grow: 1;}#sk-container-id-1 div.sk-label:hover label.sk-toggleable__label {background-color: #d4ebff;}#sk-container-id-1 div.sk-serial::before {content: \"\";position: absolute;border-left: 1px solid gray;box-sizing: border-box;top: 0;bottom: 0;left: 50%;z-index: 0;}#sk-container-id-1 div.sk-serial {display: flex;flex-direction: column;align-items: center;background-color: white;padding-right: 0.2em;padding-left: 0.2em;position: relative;}#sk-container-id-1 div.sk-item {position: relative;z-index: 1;}#sk-container-id-1 div.sk-parallel {display: flex;align-items: stretch;justify-content: center;background-color: white;position: relative;}#sk-container-id-1 div.sk-item::before, #sk-container-id-1 div.sk-parallel-item::before {content: \"\";position: absolute;border-left: 1px solid gray;box-sizing: border-box;top: 0;bottom: 0;left: 50%;z-index: -1;}#sk-container-id-1 div.sk-parallel-item {display: flex;flex-direction: column;z-index: 1;position: relative;background-color: white;}#sk-container-id-1 div.sk-parallel-item:first-child::after {align-self: flex-end;width: 50%;}#sk-container-id-1 div.sk-parallel-item:last-child::after {align-self: flex-start;width: 50%;}#sk-container-id-1 div.sk-parallel-item:only-child::after {width: 0;}#sk-container-id-1 div.sk-dashed-wrapped {border: 1px dashed gray;margin: 0 0.4em 0.5em 0.4em;box-sizing: border-box;padding-bottom: 0.4em;background-color: white;}#sk-container-id-1 div.sk-label label {font-family: monospace;font-weight: bold;display: inline-block;line-height: 1.2em;}#sk-container-id-1 div.sk-label-container {text-align: center;}#sk-container-id-1 div.sk-container {/* jupyter's `normalize.less` sets `[hidden] { display: none; }` but bootstrap.min.css set `[hidden] { display: none !important; }` so we also need the `!important` here to be able to override the default hidden behavior on the sphinx rendered scikit-learn.org. See: https://github.com/scikit-learn/scikit-learn/issues/21755 */display: inline-block !important;position: relative;}#sk-container-id-1 div.sk-text-repr-fallback {display: none;}</style><div id=\"sk-container-id-1\" class=\"sk-top-container\"><div class=\"sk-text-repr-fallback\"><pre>GridSearchCV(cv=5, estimator=DecisionTreeClassifier(random_state=42),\n",
              "             param_grid=[{&#x27;criterion&#x27;: [&#x27;gini&#x27;, &#x27;entropy&#x27;],\n",
              "                          &#x27;splitter&#x27;: [&#x27;best&#x27;, &#x27;random&#x27;]}])</pre><b>In a Jupyter environment, please rerun this cell to show the HTML representation or trust the notebook. <br />On GitHub, the HTML representation is unable to render, please try loading this page with nbviewer.org.</b></div><div class=\"sk-container\" hidden><div class=\"sk-item sk-dashed-wrapped\"><div class=\"sk-label-container\"><div class=\"sk-label sk-toggleable\"><input class=\"sk-toggleable__control sk-hidden--visually\" id=\"sk-estimator-id-1\" type=\"checkbox\" ><label for=\"sk-estimator-id-1\" class=\"sk-toggleable__label sk-toggleable__label-arrow\">GridSearchCV</label><div class=\"sk-toggleable__content\"><pre>GridSearchCV(cv=5, estimator=DecisionTreeClassifier(random_state=42),\n",
              "             param_grid=[{&#x27;criterion&#x27;: [&#x27;gini&#x27;, &#x27;entropy&#x27;],\n",
              "                          &#x27;splitter&#x27;: [&#x27;best&#x27;, &#x27;random&#x27;]}])</pre></div></div></div><div class=\"sk-parallel\"><div class=\"sk-parallel-item\"><div class=\"sk-item\"><div class=\"sk-label-container\"><div class=\"sk-label sk-toggleable\"><input class=\"sk-toggleable__control sk-hidden--visually\" id=\"sk-estimator-id-2\" type=\"checkbox\" ><label for=\"sk-estimator-id-2\" class=\"sk-toggleable__label sk-toggleable__label-arrow\">estimator: DecisionTreeClassifier</label><div class=\"sk-toggleable__content\"><pre>DecisionTreeClassifier(random_state=42)</pre></div></div></div><div class=\"sk-serial\"><div class=\"sk-item\"><div class=\"sk-estimator sk-toggleable\"><input class=\"sk-toggleable__control sk-hidden--visually\" id=\"sk-estimator-id-3\" type=\"checkbox\" ><label for=\"sk-estimator-id-3\" class=\"sk-toggleable__label sk-toggleable__label-arrow\">DecisionTreeClassifier</label><div class=\"sk-toggleable__content\"><pre>DecisionTreeClassifier(random_state=42)</pre></div></div></div></div></div></div></div></div></div></div>"
            ],
            "text/plain": [
              "GridSearchCV(cv=5, estimator=DecisionTreeClassifier(random_state=42),\n",
              "             param_grid=[{'criterion': ['gini', 'entropy'],\n",
              "                          'splitter': ['best', 'random']}])"
            ]
          },
          "execution_count": 21,
          "metadata": {},
          "output_type": "execute_result"
        }
      ],
      "source": [
        "# Decision Tree\n",
        "param_grid=[{\"criterion\":[\"gini\", \"entropy\"],\n",
        "             \"splitter\":[\"best\", \"random\"]}]\n",
        "grid=GridSearchCV(estimator=DecisionTreeClassifier(random_state=42),param_grid=param_grid,cv=5)\n",
        "grid.fit(X_train,y_train)"
      ]
    },
    {
      "cell_type": "code",
      "execution_count": null,
      "id": "98f67ef2",
      "metadata": {
        "execution": {
          "iopub.execute_input": "2023-05-25T08:17:11.850079Z",
          "iopub.status.busy": "2023-05-25T08:17:11.849699Z",
          "iopub.status.idle": "2023-05-25T08:17:11.856319Z",
          "shell.execute_reply": "2023-05-25T08:17:11.855533Z"
        },
        "papermill": {
          "duration": 0.099178,
          "end_time": "2023-05-25T08:17:11.857972",
          "exception": false,
          "start_time": "2023-05-25T08:17:11.758794",
          "status": "completed"
        },
        "tags": [],
        "id": "98f67ef2",
        "outputId": "acdd6015-307d-4615-a2c9-8dad73a785c2"
      },
      "outputs": [
        {
          "data": {
            "text/plain": [
              "{'criterion': 'gini', 'splitter': 'best'}"
            ]
          },
          "execution_count": 22,
          "metadata": {},
          "output_type": "execute_result"
        }
      ],
      "source": [
        "# Optimal hyperparameters\n",
        "grid.best_params_"
      ]
    },
    {
      "cell_type": "code",
      "execution_count": null,
      "id": "a4575150",
      "metadata": {
        "execution": {
          "iopub.execute_input": "2023-05-25T08:17:12.037716Z",
          "iopub.status.busy": "2023-05-25T08:17:12.037310Z",
          "iopub.status.idle": "2023-05-25T08:17:12.048799Z",
          "shell.execute_reply": "2023-05-25T08:17:12.048013Z"
        },
        "papermill": {
          "duration": 0.104142,
          "end_time": "2023-05-25T08:17:12.050999",
          "exception": false,
          "start_time": "2023-05-25T08:17:11.946857",
          "status": "completed"
        },
        "tags": [],
        "id": "a4575150",
        "outputId": "c6e69b8c-d1fb-4ac3-e38f-dcda78638cdd"
      },
      "outputs": [
        {
          "data": {
            "text/plain": [
              "1.0"
            ]
          },
          "execution_count": 23,
          "metadata": {},
          "output_type": "execute_result"
        }
      ],
      "source": [
        "# training accuracy\n",
        "grid.score(X_train,y_train)"
      ]
    },
    {
      "cell_type": "code",
      "execution_count": null,
      "id": "10a1aeef",
      "metadata": {
        "execution": {
          "iopub.execute_input": "2023-05-25T08:17:12.228455Z",
          "iopub.status.busy": "2023-05-25T08:17:12.227856Z",
          "iopub.status.idle": "2023-05-25T08:17:12.235578Z",
          "shell.execute_reply": "2023-05-25T08:17:12.234188Z"
        },
        "papermill": {
          "duration": 0.098986,
          "end_time": "2023-05-25T08:17:12.237719",
          "exception": false,
          "start_time": "2023-05-25T08:17:12.138733",
          "status": "completed"
        },
        "tags": [],
        "id": "10a1aeef",
        "outputId": "b9d2dfa1-e092-4060-ae45-34e64c96e6f6"
      },
      "outputs": [
        {
          "name": "stdout",
          "output_type": "stream",
          "text": [
            "0.9916666666666667\n"
          ]
        }
      ],
      "source": [
        "# test accuracy\n",
        "dtAccuracy = grid.score(X_test,y_test)\n",
        "print(dtAccuracy)"
      ]
    },
    {
      "cell_type": "markdown",
      "id": "fc6a1921",
      "metadata": {
        "papermill": {
          "duration": 0.089776,
          "end_time": "2023-05-25T08:17:12.417721",
          "exception": false,
          "start_time": "2023-05-25T08:17:12.327945",
          "status": "completed"
        },
        "tags": [],
        "id": "fc6a1921"
      },
      "source": [
        "# **Random Forest**"
      ]
    },
    {
      "cell_type": "code",
      "execution_count": null,
      "id": "4463adf0",
      "metadata": {
        "execution": {
          "iopub.execute_input": "2023-05-25T08:17:12.597656Z",
          "iopub.status.busy": "2023-05-25T08:17:12.597227Z",
          "iopub.status.idle": "2023-05-25T08:17:27.891489Z",
          "shell.execute_reply": "2023-05-25T08:17:27.890495Z"
        },
        "papermill": {
          "duration": 15.387714,
          "end_time": "2023-05-25T08:17:27.893647",
          "exception": false,
          "start_time": "2023-05-25T08:17:12.505933",
          "status": "completed"
        },
        "tags": [],
        "id": "4463adf0",
        "outputId": "7ea1ab3e-3671-4b15-dff8-76d0abd35104"
      },
      "outputs": [
        {
          "data": {
            "text/html": [
              "<style>#sk-container-id-2 {color: black;background-color: white;}#sk-container-id-2 pre{padding: 0;}#sk-container-id-2 div.sk-toggleable {background-color: white;}#sk-container-id-2 label.sk-toggleable__label {cursor: pointer;display: block;width: 100%;margin-bottom: 0;padding: 0.3em;box-sizing: border-box;text-align: center;}#sk-container-id-2 label.sk-toggleable__label-arrow:before {content: \"▸\";float: left;margin-right: 0.25em;color: #696969;}#sk-container-id-2 label.sk-toggleable__label-arrow:hover:before {color: black;}#sk-container-id-2 div.sk-estimator:hover label.sk-toggleable__label-arrow:before {color: black;}#sk-container-id-2 div.sk-toggleable__content {max-height: 0;max-width: 0;overflow: hidden;text-align: left;background-color: #f0f8ff;}#sk-container-id-2 div.sk-toggleable__content pre {margin: 0.2em;color: black;border-radius: 0.25em;background-color: #f0f8ff;}#sk-container-id-2 input.sk-toggleable__control:checked~div.sk-toggleable__content {max-height: 200px;max-width: 100%;overflow: auto;}#sk-container-id-2 input.sk-toggleable__control:checked~label.sk-toggleable__label-arrow:before {content: \"▾\";}#sk-container-id-2 div.sk-estimator input.sk-toggleable__control:checked~label.sk-toggleable__label {background-color: #d4ebff;}#sk-container-id-2 div.sk-label input.sk-toggleable__control:checked~label.sk-toggleable__label {background-color: #d4ebff;}#sk-container-id-2 input.sk-hidden--visually {border: 0;clip: rect(1px 1px 1px 1px);clip: rect(1px, 1px, 1px, 1px);height: 1px;margin: -1px;overflow: hidden;padding: 0;position: absolute;width: 1px;}#sk-container-id-2 div.sk-estimator {font-family: monospace;background-color: #f0f8ff;border: 1px dotted black;border-radius: 0.25em;box-sizing: border-box;margin-bottom: 0.5em;}#sk-container-id-2 div.sk-estimator:hover {background-color: #d4ebff;}#sk-container-id-2 div.sk-parallel-item::after {content: \"\";width: 100%;border-bottom: 1px solid gray;flex-grow: 1;}#sk-container-id-2 div.sk-label:hover label.sk-toggleable__label {background-color: #d4ebff;}#sk-container-id-2 div.sk-serial::before {content: \"\";position: absolute;border-left: 1px solid gray;box-sizing: border-box;top: 0;bottom: 0;left: 50%;z-index: 0;}#sk-container-id-2 div.sk-serial {display: flex;flex-direction: column;align-items: center;background-color: white;padding-right: 0.2em;padding-left: 0.2em;position: relative;}#sk-container-id-2 div.sk-item {position: relative;z-index: 1;}#sk-container-id-2 div.sk-parallel {display: flex;align-items: stretch;justify-content: center;background-color: white;position: relative;}#sk-container-id-2 div.sk-item::before, #sk-container-id-2 div.sk-parallel-item::before {content: \"\";position: absolute;border-left: 1px solid gray;box-sizing: border-box;top: 0;bottom: 0;left: 50%;z-index: -1;}#sk-container-id-2 div.sk-parallel-item {display: flex;flex-direction: column;z-index: 1;position: relative;background-color: white;}#sk-container-id-2 div.sk-parallel-item:first-child::after {align-self: flex-end;width: 50%;}#sk-container-id-2 div.sk-parallel-item:last-child::after {align-self: flex-start;width: 50%;}#sk-container-id-2 div.sk-parallel-item:only-child::after {width: 0;}#sk-container-id-2 div.sk-dashed-wrapped {border: 1px dashed gray;margin: 0 0.4em 0.5em 0.4em;box-sizing: border-box;padding-bottom: 0.4em;background-color: white;}#sk-container-id-2 div.sk-label label {font-family: monospace;font-weight: bold;display: inline-block;line-height: 1.2em;}#sk-container-id-2 div.sk-label-container {text-align: center;}#sk-container-id-2 div.sk-container {/* jupyter's `normalize.less` sets `[hidden] { display: none; }` but bootstrap.min.css set `[hidden] { display: none !important; }` so we also need the `!important` here to be able to override the default hidden behavior on the sphinx rendered scikit-learn.org. See: https://github.com/scikit-learn/scikit-learn/issues/21755 */display: inline-block !important;position: relative;}#sk-container-id-2 div.sk-text-repr-fallback {display: none;}</style><div id=\"sk-container-id-2\" class=\"sk-top-container\"><div class=\"sk-text-repr-fallback\"><pre>GridSearchCV(cv=5, estimator=RandomForestClassifier(random_state=42),\n",
              "             param_grid=[{&#x27;criterion&#x27;: [&#x27;gini&#x27;, &#x27;entropy&#x27;],\n",
              "                          &#x27;n_estimators&#x27;: [10, 20, 30, 40, 50, 60, 70, 80, 90,\n",
              "                                           100, 110]}])</pre><b>In a Jupyter environment, please rerun this cell to show the HTML representation or trust the notebook. <br />On GitHub, the HTML representation is unable to render, please try loading this page with nbviewer.org.</b></div><div class=\"sk-container\" hidden><div class=\"sk-item sk-dashed-wrapped\"><div class=\"sk-label-container\"><div class=\"sk-label sk-toggleable\"><input class=\"sk-toggleable__control sk-hidden--visually\" id=\"sk-estimator-id-4\" type=\"checkbox\" ><label for=\"sk-estimator-id-4\" class=\"sk-toggleable__label sk-toggleable__label-arrow\">GridSearchCV</label><div class=\"sk-toggleable__content\"><pre>GridSearchCV(cv=5, estimator=RandomForestClassifier(random_state=42),\n",
              "             param_grid=[{&#x27;criterion&#x27;: [&#x27;gini&#x27;, &#x27;entropy&#x27;],\n",
              "                          &#x27;n_estimators&#x27;: [10, 20, 30, 40, 50, 60, 70, 80, 90,\n",
              "                                           100, 110]}])</pre></div></div></div><div class=\"sk-parallel\"><div class=\"sk-parallel-item\"><div class=\"sk-item\"><div class=\"sk-label-container\"><div class=\"sk-label sk-toggleable\"><input class=\"sk-toggleable__control sk-hidden--visually\" id=\"sk-estimator-id-5\" type=\"checkbox\" ><label for=\"sk-estimator-id-5\" class=\"sk-toggleable__label sk-toggleable__label-arrow\">estimator: RandomForestClassifier</label><div class=\"sk-toggleable__content\"><pre>RandomForestClassifier(random_state=42)</pre></div></div></div><div class=\"sk-serial\"><div class=\"sk-item\"><div class=\"sk-estimator sk-toggleable\"><input class=\"sk-toggleable__control sk-hidden--visually\" id=\"sk-estimator-id-6\" type=\"checkbox\" ><label for=\"sk-estimator-id-6\" class=\"sk-toggleable__label sk-toggleable__label-arrow\">RandomForestClassifier</label><div class=\"sk-toggleable__content\"><pre>RandomForestClassifier(random_state=42)</pre></div></div></div></div></div></div></div></div></div></div>"
            ],
            "text/plain": [
              "GridSearchCV(cv=5, estimator=RandomForestClassifier(random_state=42),\n",
              "             param_grid=[{'criterion': ['gini', 'entropy'],\n",
              "                          'n_estimators': [10, 20, 30, 40, 50, 60, 70, 80, 90,\n",
              "                                           100, 110]}])"
            ]
          },
          "execution_count": 25,
          "metadata": {},
          "output_type": "execute_result"
        }
      ],
      "source": [
        "# Random Forest\n",
        "param_grid=[{\"n_estimators\":[x for x in range(10, 120, 10)],\n",
        "             \"criterion\":[\"gini\", \"entropy\"]}]\n",
        "grid=GridSearchCV(estimator=RandomForestClassifier(random_state=42),param_grid=param_grid,cv=5)\n",
        "grid.fit(X_train,y_train)"
      ]
    },
    {
      "cell_type": "code",
      "execution_count": null,
      "id": "bb70bed6",
      "metadata": {
        "execution": {
          "iopub.execute_input": "2023-05-25T08:17:28.073554Z",
          "iopub.status.busy": "2023-05-25T08:17:28.072452Z",
          "iopub.status.idle": "2023-05-25T08:17:28.080630Z",
          "shell.execute_reply": "2023-05-25T08:17:28.079230Z"
        },
        "papermill": {
          "duration": 0.101181,
          "end_time": "2023-05-25T08:17:28.083446",
          "exception": false,
          "start_time": "2023-05-25T08:17:27.982265",
          "status": "completed"
        },
        "tags": [],
        "id": "bb70bed6",
        "outputId": "33d7d5dc-912a-41d8-a2a5-c1fd19dd4438"
      },
      "outputs": [
        {
          "data": {
            "text/plain": [
              "{'criterion': 'entropy', 'n_estimators': 50}"
            ]
          },
          "execution_count": 26,
          "metadata": {},
          "output_type": "execute_result"
        }
      ],
      "source": [
        "# Optimal hyperparameters\n",
        "grid.best_params_"
      ]
    },
    {
      "cell_type": "code",
      "execution_count": null,
      "id": "a4a0e44e",
      "metadata": {
        "execution": {
          "iopub.execute_input": "2023-05-25T08:17:28.263232Z",
          "iopub.status.busy": "2023-05-25T08:17:28.262542Z",
          "iopub.status.idle": "2023-05-25T08:17:28.285274Z",
          "shell.execute_reply": "2023-05-25T08:17:28.284384Z"
        },
        "papermill": {
          "duration": 0.115105,
          "end_time": "2023-05-25T08:17:28.287279",
          "exception": false,
          "start_time": "2023-05-25T08:17:28.172174",
          "status": "completed"
        },
        "tags": [],
        "id": "a4a0e44e",
        "outputId": "6db60c63-981b-439c-d564-40a4dca9b1c4"
      },
      "outputs": [
        {
          "data": {
            "text/plain": [
              "0.9996428571428572"
            ]
          },
          "execution_count": 27,
          "metadata": {},
          "output_type": "execute_result"
        }
      ],
      "source": [
        "# training accuracy\n",
        "grid.score(X_train,y_train)"
      ]
    },
    {
      "cell_type": "code",
      "execution_count": null,
      "id": "7f828c43",
      "metadata": {
        "execution": {
          "iopub.execute_input": "2023-05-25T08:17:28.464524Z",
          "iopub.status.busy": "2023-05-25T08:17:28.464159Z",
          "iopub.status.idle": "2023-05-25T08:17:28.482085Z",
          "shell.execute_reply": "2023-05-25T08:17:28.480800Z"
        },
        "papermill": {
          "duration": 0.109743,
          "end_time": "2023-05-25T08:17:28.484236",
          "exception": false,
          "start_time": "2023-05-25T08:17:28.374493",
          "status": "completed"
        },
        "tags": [],
        "id": "7f828c43",
        "outputId": "d94ceee1-686c-4920-f97f-073c602a212a"
      },
      "outputs": [
        {
          "name": "stdout",
          "output_type": "stream",
          "text": [
            "0.995\n"
          ]
        }
      ],
      "source": [
        "# test accuracy\n",
        "rfAccuracy = grid.score(X_test,y_test)\n",
        "print(rfAccuracy)"
      ]
    },
    {
      "cell_type": "markdown",
      "id": "edd33e00",
      "metadata": {
        "papermill": {
          "duration": 0.088185,
          "end_time": "2023-05-25T08:17:28.662339",
          "exception": false,
          "start_time": "2023-05-25T08:17:28.574154",
          "status": "completed"
        },
        "tags": [],
        "id": "edd33e00"
      },
      "source": [
        "# **Logistic Regression**"
      ]
    },
    {
      "cell_type": "code",
      "execution_count": null,
      "id": "1c90945d",
      "metadata": {
        "execution": {
          "iopub.execute_input": "2023-05-25T08:17:28.841931Z",
          "iopub.status.busy": "2023-05-25T08:17:28.841511Z",
          "iopub.status.idle": "2023-05-25T08:17:28.869740Z",
          "shell.execute_reply": "2023-05-25T08:17:28.868828Z"
        },
        "papermill": {
          "duration": 0.122419,
          "end_time": "2023-05-25T08:17:28.872497",
          "exception": false,
          "start_time": "2023-05-25T08:17:28.750078",
          "status": "completed"
        },
        "tags": [],
        "id": "1c90945d",
        "outputId": "3d6d77a5-0f95-4e58-e68a-fad96e80222e"
      },
      "outputs": [
        {
          "data": {
            "text/html": [
              "<style>#sk-container-id-3 {color: black;background-color: white;}#sk-container-id-3 pre{padding: 0;}#sk-container-id-3 div.sk-toggleable {background-color: white;}#sk-container-id-3 label.sk-toggleable__label {cursor: pointer;display: block;width: 100%;margin-bottom: 0;padding: 0.3em;box-sizing: border-box;text-align: center;}#sk-container-id-3 label.sk-toggleable__label-arrow:before {content: \"▸\";float: left;margin-right: 0.25em;color: #696969;}#sk-container-id-3 label.sk-toggleable__label-arrow:hover:before {color: black;}#sk-container-id-3 div.sk-estimator:hover label.sk-toggleable__label-arrow:before {color: black;}#sk-container-id-3 div.sk-toggleable__content {max-height: 0;max-width: 0;overflow: hidden;text-align: left;background-color: #f0f8ff;}#sk-container-id-3 div.sk-toggleable__content pre {margin: 0.2em;color: black;border-radius: 0.25em;background-color: #f0f8ff;}#sk-container-id-3 input.sk-toggleable__control:checked~div.sk-toggleable__content {max-height: 200px;max-width: 100%;overflow: auto;}#sk-container-id-3 input.sk-toggleable__control:checked~label.sk-toggleable__label-arrow:before {content: \"▾\";}#sk-container-id-3 div.sk-estimator input.sk-toggleable__control:checked~label.sk-toggleable__label {background-color: #d4ebff;}#sk-container-id-3 div.sk-label input.sk-toggleable__control:checked~label.sk-toggleable__label {background-color: #d4ebff;}#sk-container-id-3 input.sk-hidden--visually {border: 0;clip: rect(1px 1px 1px 1px);clip: rect(1px, 1px, 1px, 1px);height: 1px;margin: -1px;overflow: hidden;padding: 0;position: absolute;width: 1px;}#sk-container-id-3 div.sk-estimator {font-family: monospace;background-color: #f0f8ff;border: 1px dotted black;border-radius: 0.25em;box-sizing: border-box;margin-bottom: 0.5em;}#sk-container-id-3 div.sk-estimator:hover {background-color: #d4ebff;}#sk-container-id-3 div.sk-parallel-item::after {content: \"\";width: 100%;border-bottom: 1px solid gray;flex-grow: 1;}#sk-container-id-3 div.sk-label:hover label.sk-toggleable__label {background-color: #d4ebff;}#sk-container-id-3 div.sk-serial::before {content: \"\";position: absolute;border-left: 1px solid gray;box-sizing: border-box;top: 0;bottom: 0;left: 50%;z-index: 0;}#sk-container-id-3 div.sk-serial {display: flex;flex-direction: column;align-items: center;background-color: white;padding-right: 0.2em;padding-left: 0.2em;position: relative;}#sk-container-id-3 div.sk-item {position: relative;z-index: 1;}#sk-container-id-3 div.sk-parallel {display: flex;align-items: stretch;justify-content: center;background-color: white;position: relative;}#sk-container-id-3 div.sk-item::before, #sk-container-id-3 div.sk-parallel-item::before {content: \"\";position: absolute;border-left: 1px solid gray;box-sizing: border-box;top: 0;bottom: 0;left: 50%;z-index: -1;}#sk-container-id-3 div.sk-parallel-item {display: flex;flex-direction: column;z-index: 1;position: relative;background-color: white;}#sk-container-id-3 div.sk-parallel-item:first-child::after {align-self: flex-end;width: 50%;}#sk-container-id-3 div.sk-parallel-item:last-child::after {align-self: flex-start;width: 50%;}#sk-container-id-3 div.sk-parallel-item:only-child::after {width: 0;}#sk-container-id-3 div.sk-dashed-wrapped {border: 1px dashed gray;margin: 0 0.4em 0.5em 0.4em;box-sizing: border-box;padding-bottom: 0.4em;background-color: white;}#sk-container-id-3 div.sk-label label {font-family: monospace;font-weight: bold;display: inline-block;line-height: 1.2em;}#sk-container-id-3 div.sk-label-container {text-align: center;}#sk-container-id-3 div.sk-container {/* jupyter's `normalize.less` sets `[hidden] { display: none; }` but bootstrap.min.css set `[hidden] { display: none !important; }` so we also need the `!important` here to be able to override the default hidden behavior on the sphinx rendered scikit-learn.org. See: https://github.com/scikit-learn/scikit-learn/issues/21755 */display: inline-block !important;position: relative;}#sk-container-id-3 div.sk-text-repr-fallback {display: none;}</style><div id=\"sk-container-id-3\" class=\"sk-top-container\"><div class=\"sk-text-repr-fallback\"><pre>LogisticRegression(random_state=0, solver=&#x27;liblinear&#x27;)</pre><b>In a Jupyter environment, please rerun this cell to show the HTML representation or trust the notebook. <br />On GitHub, the HTML representation is unable to render, please try loading this page with nbviewer.org.</b></div><div class=\"sk-container\" hidden><div class=\"sk-item\"><div class=\"sk-estimator sk-toggleable\"><input class=\"sk-toggleable__control sk-hidden--visually\" id=\"sk-estimator-id-7\" type=\"checkbox\" checked><label for=\"sk-estimator-id-7\" class=\"sk-toggleable__label sk-toggleable__label-arrow\">LogisticRegression</label><div class=\"sk-toggleable__content\"><pre>LogisticRegression(random_state=0, solver=&#x27;liblinear&#x27;)</pre></div></div></div></div></div>"
            ],
            "text/plain": [
              "LogisticRegression(random_state=0, solver='liblinear')"
            ]
          },
          "execution_count": 29,
          "metadata": {},
          "output_type": "execute_result"
        }
      ],
      "source": [
        "# Build the model\n",
        "model = LogisticRegression(solver='liblinear', random_state=0)\n",
        "\n",
        "# Training\n",
        "model.fit(X_train, y_train)"
      ]
    },
    {
      "cell_type": "code",
      "execution_count": null,
      "id": "abd282e0",
      "metadata": {
        "execution": {
          "iopub.execute_input": "2023-05-25T08:17:29.061877Z",
          "iopub.status.busy": "2023-05-25T08:17:29.061484Z",
          "iopub.status.idle": "2023-05-25T08:17:29.070858Z",
          "shell.execute_reply": "2023-05-25T08:17:29.069683Z"
        },
        "papermill": {
          "duration": 0.111424,
          "end_time": "2023-05-25T08:17:29.078110",
          "exception": false,
          "start_time": "2023-05-25T08:17:28.966686",
          "status": "completed"
        },
        "tags": [],
        "id": "abd282e0"
      },
      "outputs": [],
      "source": [
        "# Prediction\n",
        "y_pred = model.predict(X_test)"
      ]
    },
    {
      "cell_type": "code",
      "execution_count": null,
      "id": "9b90333a",
      "metadata": {
        "execution": {
          "iopub.execute_input": "2023-05-25T08:17:29.287876Z",
          "iopub.status.busy": "2023-05-25T08:17:29.287474Z",
          "iopub.status.idle": "2023-05-25T08:17:29.295508Z",
          "shell.execute_reply": "2023-05-25T08:17:29.294337Z"
        },
        "papermill": {
          "duration": 0.101977,
          "end_time": "2023-05-25T08:17:29.298028",
          "exception": false,
          "start_time": "2023-05-25T08:17:29.196051",
          "status": "completed"
        },
        "tags": [],
        "id": "9b90333a",
        "outputId": "25a285bd-1e8f-4077-f341-75821d743b95"
      },
      "outputs": [
        {
          "name": "stdout",
          "output_type": "stream",
          "text": [
            "Accuracy: 97.33%\n"
          ]
        }
      ],
      "source": [
        "# Calculate the accuracy\n",
        "lrAccuracy = accuracy_score(y_test, y_pred)\n",
        "print(\"Accuracy: {:.2f}%\".format(lrAccuracy * 100))"
      ]
    },
    {
      "cell_type": "markdown",
      "id": "8479d34e",
      "metadata": {
        "papermill": {
          "duration": 0.158505,
          "end_time": "2023-05-25T08:17:29.544849",
          "exception": false,
          "start_time": "2023-05-25T08:17:29.386344",
          "status": "completed"
        },
        "tags": [],
        "id": "8479d34e"
      },
      "source": [
        "# **NAIVE BAYES**"
      ]
    },
    {
      "cell_type": "code",
      "execution_count": null,
      "id": "f5e5cd97",
      "metadata": {
        "execution": {
          "iopub.execute_input": "2023-05-25T08:17:29.730734Z",
          "iopub.status.busy": "2023-05-25T08:17:29.730369Z",
          "iopub.status.idle": "2023-05-25T08:17:29.744266Z",
          "shell.execute_reply": "2023-05-25T08:17:29.742528Z"
        },
        "papermill": {
          "duration": 0.111249,
          "end_time": "2023-05-25T08:17:29.747543",
          "exception": false,
          "start_time": "2023-05-25T08:17:29.636294",
          "status": "completed"
        },
        "tags": [],
        "id": "f5e5cd97"
      },
      "outputs": [],
      "source": [
        "# Creating Gaussian Naive Bayes object\n",
        "naive_bayes = GaussianNB()\n",
        "\n",
        "# Training the Naive Bayes model using training data\n",
        "naive_bayes.fit(X_train, y_train)\n",
        "\n",
        "# Predicting classes for training data\n",
        "train_predictions = naive_bayes.predict(X_train)\n",
        "\n",
        "# Predicting classes for test data\n",
        "test_predictions = naive_bayes.predict(X_test)"
      ]
    },
    {
      "cell_type": "code",
      "execution_count": null,
      "id": "94f5fd08",
      "metadata": {
        "execution": {
          "iopub.execute_input": "2023-05-25T08:17:29.933341Z",
          "iopub.status.busy": "2023-05-25T08:17:29.932942Z",
          "iopub.status.idle": "2023-05-25T08:17:29.942827Z",
          "shell.execute_reply": "2023-05-25T08:17:29.940982Z"
        },
        "papermill": {
          "duration": 0.104596,
          "end_time": "2023-05-25T08:17:29.945617",
          "exception": false,
          "start_time": "2023-05-25T08:17:29.841021",
          "status": "completed"
        },
        "tags": [],
        "id": "94f5fd08",
        "outputId": "ac178b4a-3c12-4992-c768-7d15aca03644"
      },
      "outputs": [
        {
          "name": "stdout",
          "output_type": "stream",
          "text": [
            "Training Accuracy: 0.9707142857142858\n",
            "Test Accuracy: 0.97\n"
          ]
        }
      ],
      "source": [
        "# Calculating accuracy of the model on the training data\n",
        "train_accuracy = accuracy_score(y_train, train_predictions)\n",
        "\n",
        "# Calculating accuracy of the model on the test data\n",
        "test_accuracy = accuracy_score(y_test, test_predictions)\n",
        "\n",
        "# Displaying the accuracies\n",
        "print(\"Training Accuracy:\", train_accuracy)\n",
        "print(\"Test Accuracy:\", test_accuracy)"
      ]
    },
    {
      "cell_type": "markdown",
      "id": "e609ea3c",
      "metadata": {
        "papermill": {
          "duration": 0.093801,
          "end_time": "2023-05-25T08:17:30.147914",
          "exception": false,
          "start_time": "2023-05-25T08:17:30.054113",
          "status": "completed"
        },
        "tags": [],
        "id": "e609ea3c"
      },
      "source": [
        "# **CNN-LSTM**"
      ]
    },
    {
      "cell_type": "code",
      "execution_count": null,
      "id": "7c5da032",
      "metadata": {
        "execution": {
          "iopub.execute_input": "2023-05-25T08:17:30.329718Z",
          "iopub.status.busy": "2023-05-25T08:17:30.329377Z",
          "iopub.status.idle": "2023-05-25T08:17:55.160933Z",
          "shell.execute_reply": "2023-05-25T08:17:55.159900Z"
        },
        "papermill": {
          "duration": 24.925637,
          "end_time": "2023-05-25T08:17:55.163086",
          "exception": false,
          "start_time": "2023-05-25T08:17:30.237449",
          "status": "completed"
        },
        "tags": [],
        "id": "7c5da032",
        "outputId": "a8a2a679-0ec9-4ee2-a211-af36cae7b214"
      },
      "outputs": [
        {
          "name": "stdout",
          "output_type": "stream",
          "text": [
            "Model: \"sequential\"\n",
            "_________________________________________________________________\n",
            " Layer (type)                Output Shape              Param #   \n",
            "=================================================================\n",
            " embedding (Embedding)       (None, 7, 100)            85500     \n",
            "                                                                 \n",
            " conv1d (Conv1D)             (None, 7, 64)             19264     \n",
            "                                                                 \n",
            " lstm (LSTM)                 (None, 64)                33024     \n",
            "                                                                 \n",
            " dense (Dense)               (None, 1)                 65        \n",
            "                                                                 \n",
            "=================================================================\n",
            "Total params: 137,853\n",
            "Trainable params: 137,853\n",
            "Non-trainable params: 0\n",
            "_________________________________________________________________\n",
            "Epoch 1/10\n",
            "88/88 [==============================] - 5s 18ms/step - loss: 0.3436 - accuracy: 0.8614 - val_loss: 0.0765 - val_accuracy: 0.9817\n",
            "Epoch 2/10\n",
            "88/88 [==============================] - 1s 13ms/step - loss: 0.0440 - accuracy: 0.9857 - val_loss: 0.0308 - val_accuracy: 0.9875\n",
            "Epoch 3/10\n",
            "88/88 [==============================] - 1s 13ms/step - loss: 0.0212 - accuracy: 0.9929 - val_loss: 0.0278 - val_accuracy: 0.9908\n",
            "Epoch 4/10\n",
            "88/88 [==============================] - 1s 13ms/step - loss: 0.0169 - accuracy: 0.9925 - val_loss: 0.0199 - val_accuracy: 0.9942\n",
            "Epoch 5/10\n",
            "88/88 [==============================] - 1s 13ms/step - loss: 0.0124 - accuracy: 0.9954 - val_loss: 0.0170 - val_accuracy: 0.9933\n",
            "Epoch 6/10\n",
            "88/88 [==============================] - 1s 13ms/step - loss: 0.0104 - accuracy: 0.9961 - val_loss: 0.0150 - val_accuracy: 0.9950\n",
            "Epoch 7/10\n",
            "88/88 [==============================] - 1s 13ms/step - loss: 0.0089 - accuracy: 0.9975 - val_loss: 0.0145 - val_accuracy: 0.9950\n",
            "Epoch 8/10\n",
            "88/88 [==============================] - 1s 14ms/step - loss: 0.0081 - accuracy: 0.9982 - val_loss: 0.0138 - val_accuracy: 0.9950\n",
            "Epoch 9/10\n",
            "88/88 [==============================] - 1s 13ms/step - loss: 0.0065 - accuracy: 0.9975 - val_loss: 0.0157 - val_accuracy: 0.9942\n",
            "Epoch 10/10\n",
            "88/88 [==============================] - 1s 16ms/step - loss: 0.0054 - accuracy: 0.9982 - val_loss: 0.0155 - val_accuracy: 0.9950\n"
          ]
        },
        {
          "data": {
            "text/plain": [
              "<keras.callbacks.History at 0x7d62ae71fc40>"
            ]
          },
          "execution_count": 34,
          "metadata": {},
          "output_type": "execute_result"
        }
      ],
      "source": [
        "# Get tokenized review text\n",
        "texts = df_reviews[['url_len', 'geo_loc', 'tld', 'who_is', 'https',\n",
        "                'js_len', 'js_obf_len']].values\n",
        "\n",
        "# Get labels\n",
        "labels = df_reviews['label'].values\n",
        "\n",
        "# Calculates the maximum length of the sequence\n",
        "max_sequence_length = max(len(seq) for seq in texts)\n",
        "\n",
        "# Padding sequences\n",
        "padded_sequences = tf.keras.preprocessing.sequence.pad_sequences(texts, maxlen=max_sequence_length)\n",
        "\n",
        "# Split data into training and test sets\n",
        "train_data, test_data, train_labels, test_labels = train_test_split(padded_sequences, labels, test_size=0.3, random_state=42)\n",
        "\n",
        "# Building CNN-LSTM model\n",
        "model = Sequential()\n",
        "model.add(Embedding(input_dim=np.max(padded_sequences) + 1, output_dim=100, input_length=max_sequence_length))\n",
        "model.add(Conv1D(filters=64, kernel_size=3, padding='same', activation='relu'))\n",
        "model.add(LSTM(units=64, dropout=0.2, recurrent_dropout=0.2))\n",
        "model.add(Dense(units=1, activation='sigmoid'))\n",
        "\n",
        "model.compile(loss='binary_crossentropy', optimizer='adam', metrics=['accuracy'])\n",
        "model.summary()\n",
        "\n",
        "# Train model\n",
        "batch_size = 32\n",
        "epochs = 10\n",
        "\n",
        "model.fit(train_data, train_labels, batch_size=batch_size, epochs=epochs, validation_data=(test_data, test_labels))"
      ]
    },
    {
      "cell_type": "code",
      "execution_count": null,
      "id": "3f03793b",
      "metadata": {
        "execution": {
          "iopub.execute_input": "2023-05-25T08:17:55.366412Z",
          "iopub.status.busy": "2023-05-25T08:17:55.365444Z",
          "iopub.status.idle": "2023-05-25T08:17:55.583507Z",
          "shell.execute_reply": "2023-05-25T08:17:55.581121Z"
        },
        "papermill": {
          "duration": 0.322541,
          "end_time": "2023-05-25T08:17:55.586753",
          "exception": false,
          "start_time": "2023-05-25T08:17:55.264212",
          "status": "completed"
        },
        "tags": [],
        "id": "3f03793b",
        "outputId": "ad9b2d6c-bd3d-400a-fc6c-90a44beba62c"
      },
      "outputs": [
        {
          "name": "stdout",
          "output_type": "stream",
          "text": [
            "38/38 [==============================] - 0s 4ms/step - loss: 0.0155 - accuracy: 0.9950\n",
            "Testing Loss: 0.015512268990278244\n",
            "Testing Accuracy: 0.9950000047683716\n"
          ]
        }
      ],
      "source": [
        "# Perform tests on test data\n",
        "loss, cnnAccuracy = model.evaluate(test_data, test_labels, verbose=1)\n",
        "\n",
        "# Display test result\n",
        "print(\"Testing Loss:\", loss)\n",
        "print(\"Testing Accuracy:\", cnnAccuracy)"
      ]
    },
    {
      "cell_type": "markdown",
      "id": "75d5ff71",
      "metadata": {
        "papermill": {
          "duration": 0.101915,
          "end_time": "2023-05-25T08:17:55.791905",
          "exception": false,
          "start_time": "2023-05-25T08:17:55.689990",
          "status": "completed"
        },
        "tags": [],
        "id": "75d5ff71"
      },
      "source": [
        "# **Multi-Layer Perceptron**"
      ]
    },
    {
      "cell_type": "code",
      "execution_count": null,
      "id": "cbddea97",
      "metadata": {
        "execution": {
          "iopub.execute_input": "2023-05-25T08:17:55.999426Z",
          "iopub.status.busy": "2023-05-25T08:17:55.998996Z",
          "iopub.status.idle": "2023-05-25T08:17:56.413775Z",
          "shell.execute_reply": "2023-05-25T08:17:56.412912Z"
        },
        "papermill": {
          "duration": 0.520228,
          "end_time": "2023-05-25T08:17:56.416020",
          "exception": false,
          "start_time": "2023-05-25T08:17:55.895792",
          "status": "completed"
        },
        "tags": [],
        "id": "cbddea97",
        "outputId": "53c90b26-9511-40d0-9e9e-5266ee514e39"
      },
      "outputs": [
        {
          "name": "stdout",
          "output_type": "stream",
          "text": [
            "Iteration 1, loss = 0.78568539\n",
            "Validation score: 0.950000\n",
            "Iteration 2, loss = 0.24850838\n",
            "Validation score: 0.935714\n",
            "Iteration 3, loss = 0.10198906\n",
            "Validation score: 0.985714\n",
            "Iteration 4, loss = 0.07254277\n",
            "Validation score: 0.982143\n",
            "Iteration 5, loss = 0.06259544\n",
            "Validation score: 0.982143\n",
            "Iteration 6, loss = 0.05906786\n",
            "Validation score: 0.985714\n",
            "Iteration 7, loss = 0.05642715\n",
            "Validation score: 0.978571\n",
            "Iteration 8, loss = 0.05178721\n",
            "Validation score: 0.989286\n",
            "Iteration 9, loss = 0.05162632\n",
            "Validation score: 0.985714\n",
            "Iteration 10, loss = 0.04982837\n",
            "Validation score: 0.985714\n",
            "Iteration 11, loss = 0.04687182\n",
            "Validation score: 0.989286\n",
            "Iteration 12, loss = 0.04542398\n",
            "Validation score: 0.989286\n",
            "Iteration 13, loss = 0.04557062\n",
            "Validation score: 0.989286\n",
            "Iteration 14, loss = 0.04228107\n",
            "Validation score: 0.982143\n",
            "Iteration 15, loss = 0.04427301\n",
            "Validation score: 0.989286\n",
            "Iteration 16, loss = 0.04102695\n",
            "Validation score: 0.989286\n",
            "Iteration 17, loss = 0.04068712\n",
            "Validation score: 0.989286\n",
            "Iteration 18, loss = 0.03833907\n",
            "Validation score: 0.989286\n",
            "Iteration 19, loss = 0.03701055\n",
            "Validation score: 0.989286\n",
            "Validation score did not improve more than tol=0.000100 for 10 consecutive epochs. Stopping.\n"
          ]
        }
      ],
      "source": [
        "from sklearn.neural_network import MLPClassifier\n",
        "from sklearn.datasets import make_classification\n",
        "mlp = MLPClassifier(hidden_layer_sizes=(300,), early_stopping=True,\n",
        "                    verbose=True).fit(X_train, y_train)\n",
        "mlp_train = mlp.predict(X_train)"
      ]
    },
    {
      "cell_type": "code",
      "execution_count": null,
      "id": "0f35908a",
      "metadata": {
        "execution": {
          "iopub.execute_input": "2023-05-25T08:17:56.642533Z",
          "iopub.status.busy": "2023-05-25T08:17:56.642152Z",
          "iopub.status.idle": "2023-05-25T08:17:56.654904Z",
          "shell.execute_reply": "2023-05-25T08:17:56.654144Z"
        },
        "papermill": {
          "duration": 0.114931,
          "end_time": "2023-05-25T08:17:56.656728",
          "exception": false,
          "start_time": "2023-05-25T08:17:56.541797",
          "status": "completed"
        },
        "tags": [],
        "id": "0f35908a",
        "outputId": "dafcaa16-1190-475f-c506-8fefd924ee1b"
      },
      "outputs": [
        {
          "name": "stdout",
          "output_type": "stream",
          "text": [
            "0.9832142857142857\n"
          ]
        }
      ],
      "source": [
        "mlp_train = mlp.predict(X_train)\n",
        "print(accuracy_score(mlp_train, y_train))"
      ]
    },
    {
      "cell_type": "code",
      "execution_count": null,
      "id": "5e55060d",
      "metadata": {
        "execution": {
          "iopub.execute_input": "2023-05-25T08:17:56.890351Z",
          "iopub.status.busy": "2023-05-25T08:17:56.889951Z",
          "iopub.status.idle": "2023-05-25T08:17:56.902266Z",
          "shell.execute_reply": "2023-05-25T08:17:56.900871Z"
        },
        "papermill": {
          "duration": 0.120459,
          "end_time": "2023-05-25T08:17:56.904493",
          "exception": false,
          "start_time": "2023-05-25T08:17:56.784034",
          "status": "completed"
        },
        "tags": [],
        "id": "5e55060d",
        "outputId": "118d4fba-1ee2-47c5-fd81-bd6cfa1fda6a"
      },
      "outputs": [
        {
          "name": "stdout",
          "output_type": "stream",
          "text": [
            "0.985\n"
          ]
        }
      ],
      "source": [
        "mlp_pred = mlp.predict(X_test)\n",
        "mlpAccuracy = accuracy_score(mlp_pred, y_test)\n",
        "print(mlpAccuracy)"
      ]
    },
    {
      "cell_type": "markdown",
      "id": "92d27f83",
      "metadata": {
        "papermill": {
          "duration": 0.102854,
          "end_time": "2023-05-25T08:17:57.134909",
          "exception": false,
          "start_time": "2023-05-25T08:17:57.032055",
          "status": "completed"
        },
        "tags": [],
        "id": "92d27f83"
      },
      "source": [
        "# **Conclusion**"
      ]
    },
    {
      "cell_type": "code",
      "execution_count": null,
      "id": "5a5cd69e",
      "metadata": {
        "papermill": {
          "duration": 0.103078,
          "end_time": "2023-05-25T08:17:57.342779",
          "exception": false,
          "start_time": "2023-05-25T08:17:57.239701",
          "status": "completed"
        },
        "tags": [],
        "id": "5a5cd69e"
      },
      "outputs": [],
      "source": []
    }
  ],
  "metadata": {
    "kernelspec": {
      "display_name": "Python 3",
      "language": "python",
      "name": "python3"
    },
    "language_info": {
      "codemirror_mode": {
        "name": "ipython",
        "version": 3
      },
      "file_extension": ".py",
      "mimetype": "text/x-python",
      "name": "python",
      "nbconvert_exporter": "python",
      "pygments_lexer": "ipython3",
      "version": "3.10.10"
    },
    "papermill": {
      "default_parameters": {},
      "duration": 357.802816,
      "end_time": "2023-05-25T08:18:00.862357",
      "environment_variables": {},
      "exception": null,
      "input_path": "__notebook__.ipynb",
      "output_path": "__notebook__.ipynb",
      "parameters": {},
      "start_time": "2023-05-25T08:12:03.059541",
      "version": "2.4.0"
    },
    "colab": {
      "provenance": []
    }
  },
  "nbformat": 4,
  "nbformat_minor": 5
}